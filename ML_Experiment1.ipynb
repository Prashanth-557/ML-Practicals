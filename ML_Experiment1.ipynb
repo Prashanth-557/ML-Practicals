{
  "nbformat": 4,
  "nbformat_minor": 0,
  "metadata": {
    "colab": {
      "provenance": [],
      "authorship_tag": "ABX9TyP9mZFaJ2NmcxEtBt2ocag/",
      "include_colab_link": true
    },
    "kernelspec": {
      "name": "python3",
      "display_name": "Python 3"
    },
    "language_info": {
      "name": "python"
    }
  },
  "cells": [
    {
      "cell_type": "markdown",
      "metadata": {
        "id": "view-in-github",
        "colab_type": "text"
      },
      "source": [
        "<a href=\"https://colab.research.google.com/github/Prashanth-557/ML-Practicals/blob/main/ML_Experiment1.ipynb\" target=\"_parent\"><img src=\"https://colab.research.google.com/assets/colab-badge.svg\" alt=\"Open In Colab\"/></a>"
      ]
    },
    {
      "cell_type": "code",
      "execution_count": null,
      "metadata": {
        "colab": {
          "base_uri": "https://localhost:8080/",
          "height": 193
        },
        "id": "iTBrtBC2-ZO_",
        "outputId": "965b1f2d-b177-46a4-9256-7c3d2943f38e"
      },
      "outputs": [
        {
          "output_type": "stream",
          "name": "stdout",
          "text": [
            "Drive already mounted at /content/drive; to attempt to forcibly remount, call drive.mount(\"/content/drive\", force_remount=True).\n"
          ]
        },
        {
          "output_type": "error",
          "ename": "NameError",
          "evalue": "name 'df' is not defined",
          "traceback": [
            "\u001b[0;31m---------------------------------------------------------------------------\u001b[0m",
            "\u001b[0;31mNameError\u001b[0m                                 Traceback (most recent call last)",
            "\u001b[0;32m<ipython-input-5-c271a5f6d1d7>\u001b[0m in \u001b[0;36m<cell line: 5>\u001b[0;34m()\u001b[0m\n\u001b[1;32m      3\u001b[0m \u001b[0;34m\u001b[0m\u001b[0m\n\u001b[1;32m      4\u001b[0m \u001b[0;34m\u001b[0m\u001b[0m\n\u001b[0;32m----> 5\u001b[0;31m \u001b[0mcsvf\u001b[0m \u001b[0;34m=\u001b[0m \u001b[0mdf\u001b[0m\u001b[0;34m.\u001b[0m\u001b[0mto_csv\u001b[0m\u001b[0;34m(\u001b[0m\u001b[0;34m'/content/drive/My Drive/ML Experiments/marks.csv'\u001b[0m\u001b[0;34m)\u001b[0m\u001b[0;34m\u001b[0m\u001b[0;34m\u001b[0m\u001b[0m\n\u001b[0m",
            "\u001b[0;31mNameError\u001b[0m: name 'df' is not defined"
          ]
        }
      ],
      "source": [
        "from google.colab import drive\n",
        "drive.mount('/content/drive')\n",
        "\n",
        "\n",
        "csvf = df.to_csv('/content/drive/My Drive/ML Experiments/marks.csv')\n"
      ]
    },
    {
      "cell_type": "code",
      "source": [
        "csvf = df.to_csv('/content/drive/D:/ML Experiments/marks.csv')"
      ],
      "metadata": {
        "colab": {
          "base_uri": "https://localhost:8080/",
          "height": 141
        },
        "id": "KmZR9NqVA4up",
        "outputId": "197a1d70-9365-4388-efdb-89c77d8f86b4"
      },
      "execution_count": null,
      "outputs": [
        {
          "output_type": "error",
          "ename": "NameError",
          "evalue": "name 'df' is not defined",
          "traceback": [
            "\u001b[0;31m---------------------------------------------------------------------------\u001b[0m",
            "\u001b[0;31mNameError\u001b[0m                                 Traceback (most recent call last)",
            "\u001b[0;32m<ipython-input-7-22c27002a60b>\u001b[0m in \u001b[0;36m<cell line: 1>\u001b[0;34m()\u001b[0m\n\u001b[0;32m----> 1\u001b[0;31m \u001b[0mcsvf\u001b[0m \u001b[0;34m=\u001b[0m \u001b[0mdf\u001b[0m\u001b[0;34m.\u001b[0m\u001b[0mto_csv\u001b[0m\u001b[0;34m(\u001b[0m\u001b[0;34m'/content/drive/D:/ML Experiments/marks.csv'\u001b[0m\u001b[0;34m)\u001b[0m\u001b[0;34m\u001b[0m\u001b[0;34m\u001b[0m\u001b[0m\n\u001b[0m",
            "\u001b[0;31mNameError\u001b[0m: name 'df' is not defined"
          ]
        }
      ]
    },
    {
      "cell_type": "code",
      "source": [
        "import pandas as pd\n",
        "from sklearn.impute import SimpleImputer\n",
        "\n",
        "def generate_example_dataset():\n",
        "    data = {\n",
        "        'PassengerId': [1, 2, 3, 4, 5],\n",
        "        'Name': ['John', 'Jane', 'Bob', 'Alice', 'Charlie'],\n",
        "        'Age': [22, None, 25, None, 30],\n",
        "        'Fare': [7.25, 71.28, None, 8.05, 10.5],\n",
        "        'Survived': [0, 1, 1, 0, 1]\n",
        "    }\n",
        "    return pd.DataFrame(data)\n",
        "\n",
        "def clean_dataset(df):\n",
        "    print(\"Original Dataset:\")\n",
        "    print(df)\n",
        "    numeric_df = df.select_dtypes(include='number')\n",
        "    imputer = SimpleImputer(strategy='mean')\n",
        "    numeric_cleaned = pd.DataFrame(imputer.fit_transform(numeric_df), columns=numeric_df.columns)\n",
        "    df[numeric_df.columns] = numeric_cleaned\n",
        "\n",
        "    print(\"\\nCleaned Dataset:\")\n",
        "    print(df)\n",
        "\n",
        "if __name__ == \"__main__\":\n",
        "    example_dataset = generate_example_dataset()\n",
        "    clean_dataset(example_dataset)\n"
      ],
      "metadata": {
        "colab": {
          "base_uri": "https://localhost:8080/"
        },
        "id": "_b4dCNo_5JUc",
        "outputId": "551800dc-30d6-4950-cc78-89ad1113c5d2"
      },
      "execution_count": 9,
      "outputs": [
        {
          "output_type": "stream",
          "name": "stdout",
          "text": [
            "Original Dataset:\n",
            "   PassengerId     Name   Age   Fare  Survived\n",
            "0            1     John  22.0   7.25         0\n",
            "1            2     Jane   NaN  71.28         1\n",
            "2            3      Bob  25.0    NaN         1\n",
            "3            4    Alice   NaN   8.05         0\n",
            "4            5  Charlie  30.0  10.50         1\n",
            "\n",
            "Cleaned Dataset:\n",
            "   PassengerId     Name        Age   Fare  Survived\n",
            "0          1.0     John  22.000000   7.25       0.0\n",
            "1          2.0     Jane  25.666667  71.28       1.0\n",
            "2          3.0      Bob  25.000000  24.27       1.0\n",
            "3          4.0    Alice  25.666667   8.05       0.0\n",
            "4          5.0  Charlie  30.000000  10.50       1.0\n"
          ]
        }
      ]
    },
    {
      "cell_type": "code",
      "source": [],
      "metadata": {
        "id": "P3uG8OP96xBN"
      },
      "execution_count": null,
      "outputs": []
    }
  ]
}